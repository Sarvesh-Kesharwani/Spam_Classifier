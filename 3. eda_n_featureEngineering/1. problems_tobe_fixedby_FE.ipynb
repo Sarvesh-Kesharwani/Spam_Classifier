{
 "cells": [
  {
   "cell_type": "code",
   "execution_count": null,
   "metadata": {},
   "outputs": [],
   "source": [
    "# types of problems to be noted down here are:\n",
    "    # 1. imbalanced category data issue.\n",
    "    # 2. \n",
    "    # \n",
    "    # \n",
    "    # \n",
    "    # "
   ]
  },
  {
   "cell_type": "code",
   "execution_count": null,
   "metadata": {},
   "outputs": [],
   "source": [
    "# problems in data:\n",
    "    # 1. data has imbalanced categories issue."
   ]
  }
 ],
 "metadata": {
  "language_info": {
   "name": "python"
  },
  "orig_nbformat": 4
 },
 "nbformat": 4,
 "nbformat_minor": 2
}
