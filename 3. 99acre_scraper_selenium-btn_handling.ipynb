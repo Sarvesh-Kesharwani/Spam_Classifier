{
 "cells": [
  {
   "cell_type": "markdown",
   "metadata": {},
   "source": [
    "https://www.youtube.com/watch?v=xSMdwDfo2dI&list=PLEsT37dHeGbT7N08taRMNBe4k8punTB-g&index=1"
   ]
  },
  {
   "cell_type": "code",
   "execution_count": 1,
   "metadata": {},
   "outputs": [],
   "source": [
    "# pip freeze > requirements.txt"
   ]
  },
  {
   "cell_type": "code",
   "execution_count": 65,
   "metadata": {},
   "outputs": [],
   "source": [
    "from selenium import webdriver\n",
    "from selenium.webdriver.chrome.service import Service\n",
    "from selenium.webdriver.common.by import By\n",
    "from selenium.webdriver.chrome.options import Options\n",
    "from webdriver_manager.chrome import ChromeDriverManager\n",
    "\n",
    "from selenium.webdriver.support.ui import WebDriverWait\n",
    "from selenium.webdriver.support import expected_conditions as EC\n",
    "\n",
    "import pandas as pd\n",
    "\n",
    "def Crawl_over_all_pages(city, start_page_num, end_page_num):\n",
    "    # Configure Chrome options\n",
    "    chrome_options = Options()\n",
    "    chrome_options.add_argument(\"--headfull\")  # Run Chrome in headless mode (without opening a window)\n",
    "\n",
    "    # Initialize the Chrome WebDriver\n",
    "    service = Service(ChromeDriverManager().install())\n",
    "    driver = webdriver.Chrome(service=service, options=chrome_options)\n",
    "\n",
    "    # crawling inside every page\n",
    "    for page in range(start_page_num, end_page_num):\n",
    "        # URL of the page to scrape\n",
    "        url = f\"https://www.99acres.com/property-for-rent-in-{city}-ffid-page-{page}\"\n",
    "\n",
    "        # Open the webpage\n",
    "        driver.get(url)\n",
    "\n",
    "        # close popup window\n",
    "        try:\n",
    "            # Set an explicit wait time of 10 seconds\n",
    "            wait = WebDriverWait(driver, 10)\n",
    "            \n",
    "            # Wait for an element to be clickable\n",
    "            warning_popup_btn = wait.until(EC.element_to_be_clickable((By.XPATH, \"//div[@data-label='FRAUD_ALERT_UNDERSTOOD' or @class='pageComponent FraudDesktop__cta']\")))\n",
    "            print(\"Fetched Page Successully!\")\n",
    "            warning_popup_btn.click()\n",
    "        except Exception as e:\n",
    "            print(\"An error occurred:\", e)\n",
    "        \n",
    "        # finding total no of listings on current page\n",
    "        no_of_properties_on_page_x = 0\n",
    "        try:\n",
    "            property_titles = driver.find_elements(By.XPATH, \"//span[@class='tupleNew__bOld']\")\n",
    "            no_of_properties_on_page_x = len(property_titles)\n",
    "            print('no_of_properties_on_page_x are: ', no_of_properties_on_page_x)\n",
    "        except Exception as e:\n",
    "            print(\"Couldn't grab property_title!\")\n",
    "        \n",
    "        society_name_lst=[]\n",
    "        property_title_lst=[]\n",
    "        # crawling over each entry on current page\n",
    "        for property in range(0, no_of_properties_on_page_x):\n",
    "            # fetching society_name\n",
    "            try:\n",
    "                society_name = driver.find_elements(By.XPATH, \"//div[@class='tupleNew__locationName ellipsis']\")[property]\n",
    "                society_name = society_name.text\n",
    "                society_name = str(society_name).strip()\n",
    "                if not society_name:\n",
    "                    society_name = 'None'\n",
    "                # print(society_name)\n",
    "                society_name_lst.append(society_name)\n",
    "            except Exception as e:\n",
    "                print(\"Couldn't grab society_name!\")\n",
    "\n",
    "            # fetching property_title\n",
    "            try:\n",
    "                property_title = driver.find_elements(By.XPATH, \"//span[@class='tupleNew__bOld']\")[property]\n",
    "                property_title = property_title.text\n",
    "                property_title = str(property_title).strip()\n",
    "                if not property_title:\n",
    "                    property_title = 'None'\n",
    "                # print(property_title)\n",
    "                property_title_lst.append(property_title)\n",
    "            except Exception as e:\n",
    "                print(\"Couldn't grab property_title!\")\n",
    "\n",
    "        driver.quit()\n",
    "        dataframe = pd.DataFrame({'society_name':society_name_lst,\n",
    "                     'property_title':property_title_lst})\n",
    "        return dataframe\n",
    "Crawl_over_all_pages('indore', 1, 49)\n"
   ]
  },
  {
   "cell_type": "code",
   "execution_count": null,
   "metadata": {},
   "outputs": [],
   "source": [
    "# for every page\n",
    "    # for every entry\n",
    "        # fetching thumbnail details\n",
    "        # fetching inner details"
   ]
  },
  {
   "cell_type": "code",
   "execution_count": null,
   "metadata": {},
   "outputs": [],
   "source": []
  },
  {
   "cell_type": "code",
   "execution_count": null,
   "metadata": {},
   "outputs": [],
   "source": []
  },
  {
   "cell_type": "code",
   "execution_count": null,
   "metadata": {},
   "outputs": [],
   "source": []
  },
  {
   "cell_type": "code",
   "execution_count": null,
   "metadata": {},
   "outputs": [],
   "source": []
  },
  {
   "cell_type": "code",
   "execution_count": 52,
   "metadata": {},
   "outputs": [
    {
     "name": "stdout",
     "output_type": "stream",
     "text": [
      "Fetched Page Successully!\n",
      "20\n",
      "---------------------------------------------------------------------------------------------------- \n",
      "\n"
     ]
    }
   ],
   "source": [
    "from selenium import webdriver\n",
    "from selenium.webdriver.chrome.service import Service\n",
    "from selenium.webdriver.common.by import By\n",
    "from selenium.webdriver.chrome.options import Options\n",
    "from webdriver_manager.chrome import ChromeDriverManager\n",
    "\n",
    "from selenium.webdriver.support.ui import WebDriverWait\n",
    "from selenium.webdriver.support import expected_conditions as EC\n",
    "\n",
    "def Crawl_over_all_pages(city, start_page_num, end_page_num):\n",
    "    # Configure Chrome options\n",
    "    chrome_options = Options()\n",
    "    chrome_options.add_argument(\"--headfull\")  # Run Chrome in headless mode (without opening a window)\n",
    "\n",
    "    # Initialize the Chrome WebDriver\n",
    "    service = Service(ChromeDriverManager().install())\n",
    "    driver = webdriver.Chrome(service=service, options=chrome_options)\n",
    "\n",
    "    # URL of the page to scrape\n",
    "    url = f\"https://www.99acres.com/property-for-rent-in-{city}-ffid-page-{start_page_num}\"\n",
    "\n",
    "    # Open the webpage\n",
    "    driver.get(url)\n",
    "\n",
    "    # close popup window\n",
    "    try:\n",
    "        # Set an explicit wait time of 10 seconds\n",
    "        wait = WebDriverWait(driver, 10)\n",
    "        \n",
    "        # Wait for an element to be clickable\n",
    "        warning_popup_btn = wait.until(EC.element_to_be_clickable((By.XPATH, \"//div[@data-label='FRAUD_ALERT_UNDERSTOOD' or @class='pageComponent FraudDesktop__cta']\")))\n",
    "        print(\"Fetched Page Successully!\")\n",
    "        warning_popup_btn.click()\n",
    "    except Exception as e:\n",
    "        print(\"An error occurred:\", e)\n",
    "\n",
    "\n",
    "    return driver\n",
    "\n",
    "driver = Crawl_over_all_pages('indore', 1, 49)\n"
   ]
  },
  {
   "cell_type": "code",
   "execution_count": 18,
   "metadata": {},
   "outputs": [
    {
     "name": "stdout",
     "output_type": "stream",
     "text": [
      "Milan Heights\n",
      "Earthshastra Nariman City\n",
      "ak Houses\n",
      "Divya Vihar\n",
      "Sapphire Avenue\n",
      "Kalani Nagar, Indore\n",
      "Matrika Casa Greens\n",
      "Vijay Nagar\n",
      "Bijli Nagar, Bicholi Road\n",
      "Apollo DB City\n",
      "Mahalaxmi Nagar, Indore\n",
      "Apollo DB City\n",
      "Apollo DB City\n",
      "Scheme No 74C, Indore\n",
      "Mirchandani Shalimar Township\n",
      "Mirchandani Premium Towers\n",
      "Vijay Nagar , Indore\n",
      "Vijay Nagar , Indore\n",
      "Scheme No 114, Indore\n",
      "rudraksha pride\n",
      "Luv Kush Apartments\n",
      "Orange BCM Park\n",
      "Premier Towers\n",
      "BCM Paradise\n",
      "Apollo DB City\n",
      "---------------------------------------------------------------------------------------------------- \n",
      "\n"
     ]
    }
   ],
   "source": [
    "try:\n",
    "    society_names = driver.find_elements(By.XPATH, \"//div[@class='tupleNew__locationName ellipsis']\")\n",
    "    for society_name in society_names:\n",
    "        society_name = society_name.text\n",
    "        society_name = str(society_name).strip()\n",
    "        if not society_name:\n",
    "            society_name = 'None'\n",
    "        print(society_name)\n",
    "except Exception as e:\n",
    "    print(\"Couldn't grab society_name!\")\n",
    "print('-'*100,'\\n')\n"
   ]
  },
  {
   "cell_type": "code",
   "execution_count": 19,
   "metadata": {},
   "outputs": [
    {
     "name": "stdout",
     "output_type": "stream",
     "text": [
      "3 BHK Flat for rent\n",
      "3 BHK Flat for rent\n",
      "2 BHK Flat for rent\n",
      "2 BHK Flat for rent\n",
      "2 BHK Flat for rent\n",
      "3 Bedroom House for rent\n",
      "3 BHK Flat for rent\n",
      "Studio Apartments / 1 RK Flats for rent\n",
      "2 Bedroom House for rent\n",
      "3 BHK Flat for rent\n",
      "1 BHK Independent Builder Floor for rent\n",
      "3 BHK Flat for rent\n",
      "3 BHK Flat for rent\n",
      "3 Bedroom House for rent\n",
      "3 BHK Flat for rent\n",
      "3 BHK Flat for rent\n",
      "3 Bedroom House for rent\n",
      "2 Bedroom House for rent\n",
      "1 Bedroom House for rent\n",
      "2 BHK Flat for rent\n",
      "1 BHK Flat for rent\n",
      "2 BHK Flat for rent\n",
      "2 BHK Flat for rent\n",
      "3 BHK Flat for rent\n",
      "1 Bedroom House for rent\n",
      "---------------------------------------------------------------------------------------------------- \n",
      "\n"
     ]
    }
   ],
   "source": [
    "\n",
    "try:\n",
    "    property_titles = driver.find_elements(By.XPATH, \"//span[@class='tupleNew__bOld']\")\n",
    "    for property_title in property_titles:\n",
    "        property_title = property_title.text\n",
    "        property_title = str(property_title).strip()\n",
    "        if not property_title:\n",
    "            property_title = 'None'\n",
    "        print(property_title)\n",
    "except Exception as e:\n",
    "    print(\"Couldn't grab property_title!\")\n",
    "print('-'*100,'\\n')\n"
   ]
  },
  {
   "cell_type": "code",
   "execution_count": 72,
   "metadata": {},
   "outputs": [
    {
     "name": "stdout",
     "output_type": "stream",
     "text": [
      "₹12,000\n",
      "₹55,000\n",
      "₹15,000\n",
      "₹16,000\n",
      "₹12,000\n",
      "₹35,000\n",
      "₹22,000\n",
      "₹22,000\n",
      "₹10,500\n",
      "₹9,000\n",
      "₹17,000\n",
      "₹30,000\n",
      "₹26,000\n",
      "₹32,000\n",
      "₹25,000\n",
      "₹19,000\n",
      "₹16,000\n",
      "₹12,000\n",
      "₹18,000\n",
      "₹35,000\n",
      "₹25,000\n",
      "₹18,000\n",
      "₹8,000\n",
      "₹22,000\n",
      "₹16,000\n",
      "---------------------------------------------------------------------------------------------------- \n",
      "\n"
     ]
    }
   ],
   "source": [
    "\n",
    "try:\n",
    "    property_rents = driver.find_elements(By.XPATH, \"//div[@class='tupleNew__priceValWrap']\")\n",
    "    # print(property_rents)\n",
    "    for property_rent in property_rents:\n",
    "        property_rent = property_rent.find_element(By.CSS_SELECTOR, \"span:first-child\")\n",
    "        # property_rent = property_rent.find_element(By.CSS_SELECTOR, \".//span[@class='child-span']\")\n",
    "        property_rent = property_rent.text\n",
    "        property_rent = str(property_rent).strip()\n",
    "        if not property_rent:\n",
    "            property_rent = 'None'\n",
    "        print(property_rent)\n",
    "except Exception as e:\n",
    "    print(\"Couldn't grab property_rent!\")\n",
    "print('-'*100,'\\n')\n",
    "\n"
   ]
  },
  {
   "cell_type": "code",
   "execution_count": 25,
   "metadata": {},
   "outputs": [],
   "source": [
    "# Configure Chrome options\n",
    "chrome_options = Options()\n",
    "chrome_options.add_argument(\"--headfull\")  # Run Chrome in headless mode (without opening a window)\n",
    "\n",
    "# Initialize the Chrome WebDriver\n",
    "service = Service(ChromeDriverManager().install())\n",
    "\n",
    "driver_inner_page = webdriver.Chrome(service=service, options=chrome_options)\n",
    "property_page_url = driver.find_element(By.XPATH, \"//a[@class='tupleNew__propertyHeading ellipsis']\")\n",
    "driver_inner_page.get(property_page_url.get_attribute('href'))\n",
    "# driver_inner_page.quit()"
   ]
  },
  {
   "cell_type": "code",
   "execution_count": 29,
   "metadata": {},
   "outputs": [
    {
     "name": "stdout",
     "output_type": "stream",
     "text": [
      "3BHK 3Baths\n",
      "---------------------------------------------------------------------------------------------------- \n",
      "\n"
     ]
    }
   ],
   "source": [
    "try:\n",
    "    types_of_rooms_available = driver_inner_page.find_elements(By.XPATH, \"//span[@id='bedWash']\")[0]\n",
    "    types_of_rooms_available = types_of_rooms_available.text\n",
    "    types_of_rooms_available = str(types_of_rooms_available).strip()\n",
    "    if not types_of_rooms_available:\n",
    "        types_of_rooms_available = 'None'\n",
    "    print(types_of_rooms_available)\n",
    "except Exception as e:\n",
    "    print(\"Couldn't grab types_of_rooms_available!\")\n",
    "print('-'*100,'\\n')"
   ]
  },
  {
   "cell_type": "code",
   "execution_count": 32,
   "metadata": {},
   "outputs": [
    {
     "name": "stdout",
     "output_type": "stream",
     "text": [
      "3 Bedrooms\n",
      "---------------------------------------------------------------------------------------------------- \n",
      "\n",
      "3 Bathrooms\n",
      "---------------------------------------------------------------------------------------------------- \n",
      "\n",
      "2 Balconies\n",
      "---------------------------------------------------------------------------------------------------- \n",
      "\n"
     ]
    }
   ],
   "source": [
    "try:\n",
    "    value = driver_inner_page.find_element(By.XPATH, \"//span[@id='bedRoomNum']\")\n",
    "    value = str(value.text).strip()\n",
    "    if not value:\n",
    "        value = 'None'\n",
    "    print(value)\n",
    "except Exception as e:\n",
    "    print(\"Couldn't grab bedRoomNum!\")\n",
    "print('-'*100,'\\n')\n",
    "\n",
    "try:\n",
    "    value = driver_inner_page.find_element(By.XPATH, \"//span[@id='bathroomNum']\")\n",
    "    value = str(value.text).strip()\n",
    "    if not value:\n",
    "        value = 'None'\n",
    "    print(value)\n",
    "except Exception as e:\n",
    "    print(\"Couldn't grab bathroomNum!\")\n",
    "print('-'*100,'\\n')\n",
    "\n",
    "try:\n",
    "    value = driver_inner_page.find_element(By.XPATH, \"//span[@id='balconyNum']\")\n",
    "    value = str(value.text).strip()\n",
    "    if not value:\n",
    "        value = 'None'\n",
    "    print(value)\n",
    "except Exception as e:\n",
    "    print(\"Couldn't grab balconyNum!\")\n",
    "print('-'*100,'\\n')\n"
   ]
  },
  {
   "cell_type": "code",
   "execution_count": 34,
   "metadata": {},
   "outputs": [
    {
     "name": "stdout",
     "output_type": "stream",
     "text": [
      "1600\n",
      "---------------------------------------------------------------------------------------------------- \n",
      "\n",
      "1500\n",
      "---------------------------------------------------------------------------------------------------- \n",
      "\n"
     ]
    }
   ],
   "source": [
    "try:\n",
    "    value = driver_inner_page.find_element(By.XPATH, \"//span[@id='superbuiltupArea_span']\")\n",
    "    value = str(value.text).strip()\n",
    "    if not value:\n",
    "        value = 'None'\n",
    "    print(value)\n",
    "except Exception as e:\n",
    "    print(\"Couldn't grab superbuiltupArea_span!\")\n",
    "print('-'*100,'\\n')\n",
    "\n",
    "try:\n",
    "    value = driver_inner_page.find_element(By.XPATH, \"//span[@id='carpetArea_span']\")\n",
    "    value = str(value.text).strip()\n",
    "    if not value:\n",
    "        value = 'None'\n",
    "    print(value)\n",
    "except Exception as e:\n",
    "    print(\"Couldn't grab carpetArea_span!\")\n",
    "print('-'*100,'\\n')"
   ]
  },
  {
   "cell_type": "code",
   "execution_count": 35,
   "metadata": {},
   "outputs": [
    {
     "name": "stdout",
     "output_type": "stream",
     "text": [
      "Milan Heights\n",
      "Bicholi Mardana, Indore\n",
      "---------------------------------------------------------------------------------------------------- \n",
      "\n"
     ]
    }
   ],
   "source": [
    "try:\n",
    "    value = driver_inner_page.find_element(By.XPATH, \"//tbody/tr[2]/td[2]/div[2]\")\n",
    "    value = str(value.text).strip()\n",
    "    if not value:\n",
    "        value = 'None'\n",
    "    print(value)\n",
    "except Exception as e:\n",
    "    print(\"Couldn't grab address!\")\n",
    "print('-'*100,'\\n')"
   ]
  },
  {
   "cell_type": "code",
   "execution_count": 36,
   "metadata": {},
   "outputs": [
    {
     "name": "stdout",
     "output_type": "stream",
     "text": [
      "Family Only\n",
      "---------------------------------------------------------------------------------------------------- \n",
      "\n"
     ]
    }
   ],
   "source": [
    "try:\n",
    "    value = driver_inner_page.find_element(By.XPATH, \"//span[@id='availableForLabel']\")\n",
    "    value = str(value.text).strip()\n",
    "    if not value:\n",
    "        value = 'None'\n",
    "    print(value)\n",
    "except Exception as e:\n",
    "    print(\"Couldn't grab available_for!\")\n",
    "print('-'*100,'\\n')"
   ]
  },
  {
   "cell_type": "code",
   "execution_count": 37,
   "metadata": {},
   "outputs": [
    {
     "name": "stdout",
     "output_type": "stream",
     "text": [
      "Semifurnished\n",
      "---------------------------------------------------------------------------------------------------- \n",
      "\n"
     ]
    }
   ],
   "source": [
    "try:\n",
    "    value = driver_inner_page.find_element(By.XPATH, \"//span[@id='furnishingLabel']\")\n",
    "    value = str(value.text).strip()\n",
    "    if not value:\n",
    "        value = 'None'\n",
    "    print(value)\n",
    "except Exception as e:\n",
    "    print(\"Couldn't grab furnishing_type!\")\n",
    "print('-'*100,'\\n')"
   ]
  },
  {
   "cell_type": "code",
   "execution_count": 41,
   "metadata": {},
   "outputs": [
    {
     "name": "stdout",
     "output_type": "stream",
     "text": [
      "01 August 2024\n",
      "---------------------------------------------------------------------------------------------------- \n",
      "\n"
     ]
    }
   ],
   "source": [
    "try:\n",
    "    value = driver_inner_page.find_element(By.XPATH, \"/html[1]/body[1]/div[1]/div[1]/div[2]/div[1]/div[1]/div[1]/div[2]/table[1]/tbody[1]/tr[4]/td[1]/div[2]\")\n",
    "    value = str(value.text).strip()\n",
    "    if not value:\n",
    "        value = 'None'\n",
    "    print(value)\n",
    "except Exception as e:\n",
    "    print(\"Couldn't grab available_from!\")\n",
    "print('-'*100,'\\n')"
   ]
  },
  {
   "cell_type": "code",
   "execution_count": 39,
   "metadata": {},
   "outputs": [
    {
     "name": "stdout",
     "output_type": "stream",
     "text": [
      "Owner on Jun 18, 2024\n",
      "---------------------------------------------------------------------------------------------------- \n",
      "\n"
     ]
    }
   ],
   "source": [
    "try:\n",
    "    value = driver_inner_page.find_element(By.XPATH, \"//span[@id='postedOnAndByLabel']\")\n",
    "    value = str(value.text).strip()\n",
    "    if not value:\n",
    "        value = 'None'\n",
    "    print(value)\n",
    "except Exception as e:\n",
    "    print(\"Couldn't grab Posted_By_and_On!\")\n",
    "print('-'*100,'\\n')"
   ]
  },
  {
   "cell_type": "code",
   "execution_count": 42,
   "metadata": {},
   "outputs": [
    {
     "name": "stdout",
     "output_type": "stream",
     "text": [
      "Vitrified\n",
      "---------------------------------------------------------------------------------------------------- \n",
      "\n"
     ]
    }
   ],
   "source": [
    "try:\n",
    "    value = driver_inner_page.find_element(By.XPATH, \"//span[@id='Flooring_Label']\")\n",
    "    value = str(value.text).strip()\n",
    "    if not value:\n",
    "        value = 'None'\n",
    "    print(value)\n",
    "except Exception as e:\n",
    "    print(\"Couldn't grab Flooring!\")\n",
    "print('-'*100,'\\n')"
   ]
  },
  {
   "cell_type": "code",
   "execution_count": 43,
   "metadata": {},
   "outputs": [
    {
     "name": "stdout",
     "output_type": "stream",
     "text": [
      "8th   of 8 Floors\n",
      "---------------------------------------------------------------------------------------------------- \n",
      "\n"
     ]
    }
   ],
   "source": [
    "try:\n",
    "    value = driver_inner_page.find_element(By.XPATH, \"//span[@id='Floor_Num_Label']\")\n",
    "    value = str(value.text).strip()\n",
    "    if not value:\n",
    "        value = 'None'\n",
    "    print(value)\n",
    "except Exception as e:\n",
    "    print(\"Couldn't grab Floor_Number!\")\n",
    "print('-'*100,'\\n')"
   ]
  },
  {
   "cell_type": "code",
   "execution_count": null,
   "metadata": {},
   "outputs": [],
   "source": [
    "try:\n",
    "    value = driver_inner_page.find_element(By.XPATH, \"//span[@id='Floor_Num_Label']\")\n",
    "    value = str(value.text).strip()\n",
    "    if not value:\n",
    "        value = 'None'\n",
    "    print(value)\n",
    "except Exception as e:\n",
    "    print(\"Couldn't grab Floor_Number!\")\n",
    "print('-'*100,'\\n')"
   ]
  },
  {
   "cell_type": "code",
   "execution_count": 44,
   "metadata": {},
   "outputs": [
    {
     "name": "stdout",
     "output_type": "stream",
     "text": [
      "Partial\n",
      "---------------------------------------------------------------------------------------------------- \n",
      "\n"
     ]
    }
   ],
   "source": [
    "try:\n",
    "    value = driver_inner_page.find_element(By.XPATH, \"//span[@id='Powerbackup_Label']\")\n",
    "    value = str(value.text).strip()\n",
    "    if not value:\n",
    "        value = 'None'\n",
    "    print(value)\n",
    "except Exception as e:\n",
    "    print(\"Couldn't grab Power_Backup!\")\n",
    "print('-'*100,'\\n')"
   ]
  },
  {
   "cell_type": "code",
   "execution_count": 46,
   "metadata": {},
   "outputs": [
    {
     "name": "stdout",
     "output_type": "stream",
     "text": [
      "1 to 5 Year Old\n",
      "---------------------------------------------------------------------------------------------------- \n",
      "\n"
     ]
    }
   ],
   "source": [
    "try:\n",
    "    value = driver_inner_page.find_element(By.XPATH, \"//span[@id='Age_Label']\")\n",
    "    value = str(value.text).strip()\n",
    "    if not value:\n",
    "        value = 'None'\n",
    "    print(value)\n",
    "except Exception as e:\n",
    "    print(\"Couldn't grab Property_Age!\")\n",
    "print('-'*100,'\\n')"
   ]
  },
  {
   "cell_type": "code",
   "execution_count": 47,
   "metadata": {},
   "outputs": [
    {
     "name": "stdout",
     "output_type": "stream",
     "text": [
      "1 Months\n",
      "---------------------------------------------------------------------------------------------------- \n",
      "\n"
     ]
    }
   ],
   "source": [
    "try:\n",
    "    value = driver_inner_page.find_element(By.XPATH, \"//span[@id='noticeDuration']\")\n",
    "    value = str(value.text).strip()\n",
    "    if not value:\n",
    "        value = 'None'\n",
    "    print(value)\n",
    "except Exception as e:\n",
    "    print(\"Couldn't grab Months_of_Notice!\")\n",
    "print('-'*100,'\\n')"
   ]
  },
  {
   "cell_type": "code",
   "execution_count": 48,
   "metadata": {},
   "outputs": [
    {
     "name": "stdout",
     "output_type": "stream",
     "text": [
      "Yes\n",
      "---------------------------------------------------------------------------------------------------- \n",
      "\n"
     ]
    }
   ],
   "source": [
    "try:\n",
    "    value = driver_inner_page.find_element(By.XPATH, \"//span[@id='Gated_community']\")\n",
    "    value = str(value.text).strip()\n",
    "    if not value:\n",
    "        value = 'None'\n",
    "    print(value)\n",
    "except Exception as e:\n",
    "    print(\"Couldn't grab Gated_Community!\")\n",
    "print('-'*100,'\\n')"
   ]
  },
  {
   "cell_type": "code",
   "execution_count": 49,
   "metadata": {},
   "outputs": [
    {
     "name": "stdout",
     "output_type": "stream",
     "text": [
      "Charges not included\n",
      "---------------------------------------------------------------------------------------------------- \n",
      "\n"
     ]
    }
   ],
   "source": [
    "try:\n",
    "    value = driver_inner_page.find_element(By.XPATH, \"//span[@id='electricityWaterCharges']\")\n",
    "    value = str(value.text).strip()\n",
    "    if not value:\n",
    "        value = 'None'\n",
    "    print(value)\n",
    "except Exception as e:\n",
    "    print(\"Couldn't grab Electricity_&_Water_Charges!\")\n",
    "print('-'*100,'\\n')"
   ]
  },
  {
   "cell_type": "code",
   "execution_count": null,
   "metadata": {},
   "outputs": [],
   "source": []
  },
  {
   "cell_type": "code",
   "execution_count": null,
   "metadata": {},
   "outputs": [],
   "source": []
  },
  {
   "cell_type": "code",
   "execution_count": 7,
   "metadata": {},
   "outputs": [],
   "source": [
    "\n",
    "driver.quit()"
   ]
  },
  {
   "cell_type": "code",
   "execution_count": 8,
   "metadata": {},
   "outputs": [],
   "source": [
    "# types_of_rooms_available\n",
    "# rent_per_month\n",
    "# property_title\n",
    "# property_location\n",
    "# overview\n",
    "    # Configuration\n",
    "    # Area\n",
    "    # address\n",
    "    # rent amt\n",
    "    # deposit amt\n",
    "    # Furnishing\n",
    "    # Available From\n",
    "    # Available For\n",
    "    # Posted By and On\n",
    "    # key highlights\n",
    "    # Floor Number\n",
    "    # facing\n",
    "    # floor\n",
    "    # flooring\n",
    "    # parking\n",
    "    # rent agreement duration\n",
    "    # months of NotADirectoryErrorealectricity & water charges\n",
    "    # power backup\n",
    "    # peroperty age\n",
    "    # property code\n",
    "    # About Property\n",
    "# Furnishing Attributes\n",
    "# Features\n",
    "# owners's address \n",
    "# owner name\n",
    "# locality review\n",
    "    # rating value\n",
    "    # no of total reviews\n",
    "# Ratings by Features\n",
    "    # Lifestyle rating value\n",
    "    # Safety rating value\n",
    "    # Environment rating value\n",
    "    # Connectivity rating value\n",
    "# liked attributes\n",
    "# disliked attributes\n",
    "# positive mention percentage\n"
   ]
  },
  {
   "cell_type": "code",
   "execution_count": null,
   "metadata": {},
   "outputs": [],
   "source": []
  },
  {
   "cell_type": "code",
   "execution_count": null,
   "metadata": {},
   "outputs": [],
   "source": []
  },
  {
   "cell_type": "code",
   "execution_count": null,
   "metadata": {},
   "outputs": [],
   "source": []
  },
  {
   "cell_type": "code",
   "execution_count": null,
   "metadata": {},
   "outputs": [],
   "source": []
  },
  {
   "cell_type": "code",
   "execution_count": null,
   "metadata": {},
   "outputs": [],
   "source": []
  },
  {
   "cell_type": "code",
   "execution_count": null,
   "metadata": {},
   "outputs": [],
   "source": []
  },
  {
   "cell_type": "code",
   "execution_count": null,
   "metadata": {},
   "outputs": [],
   "source": []
  }
 ],
 "metadata": {
  "kernelspec": {
   "display_name": "venv",
   "language": "python",
   "name": "python3"
  },
  "language_info": {
   "codemirror_mode": {
    "name": "ipython",
    "version": 3
   },
   "file_extension": ".py",
   "mimetype": "text/x-python",
   "name": "python",
   "nbconvert_exporter": "python",
   "pygments_lexer": "ipython3",
   "version": "3.10.0"
  }
 },
 "nbformat": 4,
 "nbformat_minor": 2
}
