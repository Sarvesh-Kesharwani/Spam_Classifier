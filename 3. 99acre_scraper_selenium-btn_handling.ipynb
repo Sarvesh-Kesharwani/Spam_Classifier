{
 "cells": [
  {
   "cell_type": "markdown",
   "metadata": {},
   "source": [
    "https://www.youtube.com/watch?v=xSMdwDfo2dI&list=PLEsT37dHeGbT7N08taRMNBe4k8punTB-g&index=1"
   ]
  },
  {
   "cell_type": "code",
   "execution_count": 1,
   "metadata": {},
   "outputs": [],
   "source": [
    "# pip freeze > requirements.txt"
   ]
  },
  {
   "cell_type": "code",
   "execution_count": 78,
   "metadata": {},
   "outputs": [
    {
     "name": "stdout",
     "output_type": "stream",
     "text": [
      "Fetched Page Successully!\n",
      "no_of_properties_on_page_x are:  25\n",
      "Couldn't grab types_of_rooms_available!\n"
     ]
    },
    {
     "ename": "ValueError",
     "evalue": "All arrays must be of the same length",
     "output_type": "error",
     "traceback": [
      "\u001b[1;31m---------------------------------------------------------------------------\u001b[0m",
      "\u001b[1;31mValueError\u001b[0m                                Traceback (most recent call last)",
      "Cell \u001b[1;32mIn[78], line 121\u001b[0m\n\u001b[0;32m    116\u001b[0m         dataframe \u001b[38;5;241m=\u001b[39m pd\u001b[38;5;241m.\u001b[39mDataFrame({\u001b[38;5;124m'\u001b[39m\u001b[38;5;124msociety_name\u001b[39m\u001b[38;5;124m'\u001b[39m:society_name_lst,\n\u001b[0;32m    117\u001b[0m                      \u001b[38;5;124m'\u001b[39m\u001b[38;5;124mproperty_title\u001b[39m\u001b[38;5;124m'\u001b[39m:property_title_lst,\n\u001b[0;32m    118\u001b[0m                      \u001b[38;5;124m'\u001b[39m\u001b[38;5;124mproperty_rent\u001b[39m\u001b[38;5;124m'\u001b[39m:property_rent_lst,\n\u001b[0;32m    119\u001b[0m                      \u001b[38;5;124m'\u001b[39m\u001b[38;5;124mtypes_of_rooms_available\u001b[39m\u001b[38;5;124m'\u001b[39m:types_of_rooms_available_lst})\n\u001b[0;32m    120\u001b[0m         \u001b[38;5;28;01mreturn\u001b[39;00m dataframe\n\u001b[1;32m--> 121\u001b[0m \u001b[43mCrawl_over_all_pages\u001b[49m\u001b[43m(\u001b[49m\u001b[38;5;124;43m'\u001b[39;49m\u001b[38;5;124;43mindore\u001b[39;49m\u001b[38;5;124;43m'\u001b[39;49m\u001b[43m,\u001b[49m\u001b[43m \u001b[49m\u001b[38;5;241;43m1\u001b[39;49m\u001b[43m,\u001b[49m\u001b[43m \u001b[49m\u001b[38;5;241;43m49\u001b[39;49m\u001b[43m)\u001b[49m\n",
      "Cell \u001b[1;32mIn[78], line 116\u001b[0m, in \u001b[0;36mCrawl_over_all_pages\u001b[1;34m(city, start_page_num, end_page_num)\u001b[0m\n\u001b[0;32m    113\u001b[0m     driver_inner_page\u001b[38;5;241m.\u001b[39mquit()\n\u001b[0;32m    115\u001b[0m driver\u001b[38;5;241m.\u001b[39mquit()\n\u001b[1;32m--> 116\u001b[0m dataframe \u001b[38;5;241m=\u001b[39m \u001b[43mpd\u001b[49m\u001b[38;5;241;43m.\u001b[39;49m\u001b[43mDataFrame\u001b[49m\u001b[43m(\u001b[49m\u001b[43m{\u001b[49m\u001b[38;5;124;43m'\u001b[39;49m\u001b[38;5;124;43msociety_name\u001b[39;49m\u001b[38;5;124;43m'\u001b[39;49m\u001b[43m:\u001b[49m\u001b[43msociety_name_lst\u001b[49m\u001b[43m,\u001b[49m\n\u001b[0;32m    117\u001b[0m \u001b[43m             \u001b[49m\u001b[38;5;124;43m'\u001b[39;49m\u001b[38;5;124;43mproperty_title\u001b[39;49m\u001b[38;5;124;43m'\u001b[39;49m\u001b[43m:\u001b[49m\u001b[43mproperty_title_lst\u001b[49m\u001b[43m,\u001b[49m\n\u001b[0;32m    118\u001b[0m \u001b[43m             \u001b[49m\u001b[38;5;124;43m'\u001b[39;49m\u001b[38;5;124;43mproperty_rent\u001b[39;49m\u001b[38;5;124;43m'\u001b[39;49m\u001b[43m:\u001b[49m\u001b[43mproperty_rent_lst\u001b[49m\u001b[43m,\u001b[49m\n\u001b[0;32m    119\u001b[0m \u001b[43m             \u001b[49m\u001b[38;5;124;43m'\u001b[39;49m\u001b[38;5;124;43mtypes_of_rooms_available\u001b[39;49m\u001b[38;5;124;43m'\u001b[39;49m\u001b[43m:\u001b[49m\u001b[43mtypes_of_rooms_available_lst\u001b[49m\u001b[43m}\u001b[49m\u001b[43m)\u001b[49m\n\u001b[0;32m    120\u001b[0m \u001b[38;5;28;01mreturn\u001b[39;00m dataframe\n",
      "File \u001b[1;32mf:\\Github_dsc\\Spam_Classifier\\venv\\lib\\site-packages\\pandas\\core\\frame.py:778\u001b[0m, in \u001b[0;36mDataFrame.__init__\u001b[1;34m(self, data, index, columns, dtype, copy)\u001b[0m\n\u001b[0;32m    772\u001b[0m     mgr \u001b[38;5;241m=\u001b[39m \u001b[38;5;28mself\u001b[39m\u001b[38;5;241m.\u001b[39m_init_mgr(\n\u001b[0;32m    773\u001b[0m         data, axes\u001b[38;5;241m=\u001b[39m{\u001b[38;5;124m\"\u001b[39m\u001b[38;5;124mindex\u001b[39m\u001b[38;5;124m\"\u001b[39m: index, \u001b[38;5;124m\"\u001b[39m\u001b[38;5;124mcolumns\u001b[39m\u001b[38;5;124m\"\u001b[39m: columns}, dtype\u001b[38;5;241m=\u001b[39mdtype, copy\u001b[38;5;241m=\u001b[39mcopy\n\u001b[0;32m    774\u001b[0m     )\n\u001b[0;32m    776\u001b[0m \u001b[38;5;28;01melif\u001b[39;00m \u001b[38;5;28misinstance\u001b[39m(data, \u001b[38;5;28mdict\u001b[39m):\n\u001b[0;32m    777\u001b[0m     \u001b[38;5;66;03m# GH#38939 de facto copy defaults to False only in non-dict cases\u001b[39;00m\n\u001b[1;32m--> 778\u001b[0m     mgr \u001b[38;5;241m=\u001b[39m \u001b[43mdict_to_mgr\u001b[49m\u001b[43m(\u001b[49m\u001b[43mdata\u001b[49m\u001b[43m,\u001b[49m\u001b[43m \u001b[49m\u001b[43mindex\u001b[49m\u001b[43m,\u001b[49m\u001b[43m \u001b[49m\u001b[43mcolumns\u001b[49m\u001b[43m,\u001b[49m\u001b[43m \u001b[49m\u001b[43mdtype\u001b[49m\u001b[38;5;241;43m=\u001b[39;49m\u001b[43mdtype\u001b[49m\u001b[43m,\u001b[49m\u001b[43m \u001b[49m\u001b[43mcopy\u001b[49m\u001b[38;5;241;43m=\u001b[39;49m\u001b[43mcopy\u001b[49m\u001b[43m,\u001b[49m\u001b[43m \u001b[49m\u001b[43mtyp\u001b[49m\u001b[38;5;241;43m=\u001b[39;49m\u001b[43mmanager\u001b[49m\u001b[43m)\u001b[49m\n\u001b[0;32m    779\u001b[0m \u001b[38;5;28;01melif\u001b[39;00m \u001b[38;5;28misinstance\u001b[39m(data, ma\u001b[38;5;241m.\u001b[39mMaskedArray):\n\u001b[0;32m    780\u001b[0m     \u001b[38;5;28;01mfrom\u001b[39;00m \u001b[38;5;21;01mnumpy\u001b[39;00m\u001b[38;5;21;01m.\u001b[39;00m\u001b[38;5;21;01mma\u001b[39;00m \u001b[38;5;28;01mimport\u001b[39;00m mrecords\n",
      "File \u001b[1;32mf:\\Github_dsc\\Spam_Classifier\\venv\\lib\\site-packages\\pandas\\core\\internals\\construction.py:503\u001b[0m, in \u001b[0;36mdict_to_mgr\u001b[1;34m(data, index, columns, dtype, typ, copy)\u001b[0m\n\u001b[0;32m    499\u001b[0m     \u001b[38;5;28;01melse\u001b[39;00m:\n\u001b[0;32m    500\u001b[0m         \u001b[38;5;66;03m# dtype check to exclude e.g. range objects, scalars\u001b[39;00m\n\u001b[0;32m    501\u001b[0m         arrays \u001b[38;5;241m=\u001b[39m [x\u001b[38;5;241m.\u001b[39mcopy() \u001b[38;5;28;01mif\u001b[39;00m \u001b[38;5;28mhasattr\u001b[39m(x, \u001b[38;5;124m\"\u001b[39m\u001b[38;5;124mdtype\u001b[39m\u001b[38;5;124m\"\u001b[39m) \u001b[38;5;28;01melse\u001b[39;00m x \u001b[38;5;28;01mfor\u001b[39;00m x \u001b[38;5;129;01min\u001b[39;00m arrays]\n\u001b[1;32m--> 503\u001b[0m \u001b[38;5;28;01mreturn\u001b[39;00m \u001b[43marrays_to_mgr\u001b[49m\u001b[43m(\u001b[49m\u001b[43marrays\u001b[49m\u001b[43m,\u001b[49m\u001b[43m \u001b[49m\u001b[43mcolumns\u001b[49m\u001b[43m,\u001b[49m\u001b[43m \u001b[49m\u001b[43mindex\u001b[49m\u001b[43m,\u001b[49m\u001b[43m \u001b[49m\u001b[43mdtype\u001b[49m\u001b[38;5;241;43m=\u001b[39;49m\u001b[43mdtype\u001b[49m\u001b[43m,\u001b[49m\u001b[43m \u001b[49m\u001b[43mtyp\u001b[49m\u001b[38;5;241;43m=\u001b[39;49m\u001b[43mtyp\u001b[49m\u001b[43m,\u001b[49m\u001b[43m \u001b[49m\u001b[43mconsolidate\u001b[49m\u001b[38;5;241;43m=\u001b[39;49m\u001b[43mcopy\u001b[49m\u001b[43m)\u001b[49m\n",
      "File \u001b[1;32mf:\\Github_dsc\\Spam_Classifier\\venv\\lib\\site-packages\\pandas\\core\\internals\\construction.py:114\u001b[0m, in \u001b[0;36marrays_to_mgr\u001b[1;34m(arrays, columns, index, dtype, verify_integrity, typ, consolidate)\u001b[0m\n\u001b[0;32m    111\u001b[0m \u001b[38;5;28;01mif\u001b[39;00m verify_integrity:\n\u001b[0;32m    112\u001b[0m     \u001b[38;5;66;03m# figure out the index, if necessary\u001b[39;00m\n\u001b[0;32m    113\u001b[0m     \u001b[38;5;28;01mif\u001b[39;00m index \u001b[38;5;129;01mis\u001b[39;00m \u001b[38;5;28;01mNone\u001b[39;00m:\n\u001b[1;32m--> 114\u001b[0m         index \u001b[38;5;241m=\u001b[39m \u001b[43m_extract_index\u001b[49m\u001b[43m(\u001b[49m\u001b[43marrays\u001b[49m\u001b[43m)\u001b[49m\n\u001b[0;32m    115\u001b[0m     \u001b[38;5;28;01melse\u001b[39;00m:\n\u001b[0;32m    116\u001b[0m         index \u001b[38;5;241m=\u001b[39m ensure_index(index)\n",
      "File \u001b[1;32mf:\\Github_dsc\\Spam_Classifier\\venv\\lib\\site-packages\\pandas\\core\\internals\\construction.py:677\u001b[0m, in \u001b[0;36m_extract_index\u001b[1;34m(data)\u001b[0m\n\u001b[0;32m    675\u001b[0m lengths \u001b[38;5;241m=\u001b[39m \u001b[38;5;28mlist\u001b[39m(\u001b[38;5;28mset\u001b[39m(raw_lengths))\n\u001b[0;32m    676\u001b[0m \u001b[38;5;28;01mif\u001b[39;00m \u001b[38;5;28mlen\u001b[39m(lengths) \u001b[38;5;241m>\u001b[39m \u001b[38;5;241m1\u001b[39m:\n\u001b[1;32m--> 677\u001b[0m     \u001b[38;5;28;01mraise\u001b[39;00m \u001b[38;5;167;01mValueError\u001b[39;00m(\u001b[38;5;124m\"\u001b[39m\u001b[38;5;124mAll arrays must be of the same length\u001b[39m\u001b[38;5;124m\"\u001b[39m)\n\u001b[0;32m    679\u001b[0m \u001b[38;5;28;01mif\u001b[39;00m have_dicts:\n\u001b[0;32m    680\u001b[0m     \u001b[38;5;28;01mraise\u001b[39;00m \u001b[38;5;167;01mValueError\u001b[39;00m(\n\u001b[0;32m    681\u001b[0m         \u001b[38;5;124m\"\u001b[39m\u001b[38;5;124mMixing dicts with non-Series may lead to ambiguous ordering.\u001b[39m\u001b[38;5;124m\"\u001b[39m\n\u001b[0;32m    682\u001b[0m     )\n",
      "\u001b[1;31mValueError\u001b[0m: All arrays must be of the same length"
     ]
    }
   ],
   "source": [
    "from selenium import webdriver\n",
    "from selenium.webdriver.chrome.service import Service\n",
    "from selenium.webdriver.common.by import By\n",
    "from selenium.webdriver.chrome.options import Options\n",
    "from webdriver_manager.chrome import ChromeDriverManager\n",
    "\n",
    "from selenium.webdriver.support.ui import WebDriverWait\n",
    "from selenium.webdriver.support import expected_conditions as EC\n",
    "\n",
    "import pandas as pd\n",
    "\n",
    "def Crawl_over_all_pages(city, start_page_num, end_page_num):\n",
    "    # Configure Chrome options\n",
    "    chrome_options1 = Options()\n",
    "    chrome_options1.add_argument(\"--headfull\")  # Run Chrome in headless mode (without opening a window)\n",
    "\n",
    "    # Initialize the Chrome WebDriver\n",
    "    service1 = Service(ChromeDriverManager().install())\n",
    "    driver = webdriver.Chrome(service=service1, options=chrome_options1)\n",
    "\n",
    "    # crawling inside every page\n",
    "    for page in range(start_page_num, end_page_num):\n",
    "        # URL of the page to scrape\n",
    "        url = f\"https://www.99acres.com/property-for-rent-in-{city}-ffid-page-{page}\"\n",
    "\n",
    "        # Open the webpage\n",
    "        driver.get(url)\n",
    "\n",
    "        # close popup window\n",
    "        try:\n",
    "            # Set an explicit wait time of 10 seconds\n",
    "            wait = WebDriverWait(driver, 10)\n",
    "            \n",
    "            # Wait for an element to be clickable\n",
    "            warning_popup_btn = wait.until(EC.element_to_be_clickable((By.XPATH, \"//div[@data-label='FRAUD_ALERT_UNDERSTOOD' or @class='pageComponent FraudDesktop__cta']\")))\n",
    "            print(\"Fetched Page Successully!\")\n",
    "            warning_popup_btn.click()\n",
    "        except Exception as e:\n",
    "            print(\"An error occurred:\", e)\n",
    "        \n",
    "        # finding total no of listings on current page\n",
    "        no_of_properties_on_page_x = 0\n",
    "        try:\n",
    "            property_titles = driver.find_elements(By.XPATH, \"//span[@class='tupleNew__bOld']\")\n",
    "            no_of_properties_on_page_x = len(property_titles)\n",
    "            print('no_of_properties_on_page_x are: ', no_of_properties_on_page_x)\n",
    "        except Exception as e:\n",
    "            print(\"Couldn't grab property_title!\")\n",
    "        \n",
    "        society_name_lst=[]\n",
    "        property_title_lst=[]\n",
    "        property_rent_lst=[]\n",
    "        types_of_rooms_available_lst=[]\n",
    "        # crawling over each entry on current page\n",
    "        for property in range(0, no_of_properties_on_page_x):\n",
    "            # fetching society_name\n",
    "            try:\n",
    "                society_name = driver.find_elements(By.XPATH, \"//div[@class='tupleNew__locationName ellipsis']\")[property]\n",
    "                society_name = society_name.text\n",
    "                society_name = str(society_name).strip()\n",
    "                if not society_name:\n",
    "                    society_name = 'None'\n",
    "                # print(society_name)\n",
    "                society_name_lst.append(society_name)\n",
    "            except Exception as e:\n",
    "                print(\"Couldn't grab society_name!\")\n",
    "                society_name = 'None'\n",
    "\n",
    "            # fetching property_title\n",
    "            try:\n",
    "                property_title = driver.find_elements(By.XPATH, \"//span[@class='tupleNew__bOld']\")[property]\n",
    "                property_title = property_title.text\n",
    "                property_title = str(property_title).strip()\n",
    "                if not property_title:\n",
    "                    property_title = 'None'\n",
    "                # print(property_title)\n",
    "                property_title_lst.append(property_title)\n",
    "            except Exception as e:\n",
    "                print(\"Couldn't grab property_title!\")\n",
    "                property_title = 'None'\n",
    "\n",
    "            # fetching property_title\n",
    "            try:\n",
    "                property_rent = driver.find_elements(By.XPATH, \"//div[@class='tupleNew__priceValWrap']\")[property]\n",
    "                property_rent = property_rent.text\n",
    "                property_rent = str(property_rent).strip()\n",
    "                if not property_rent:\n",
    "                    property_rent = 'None'\n",
    "                # print(property_rent)\n",
    "                property_rent_lst.append(property_rent)\n",
    "            except Exception as e:\n",
    "                print(\"Couldn't grab property_rent!\")\n",
    "                property_rent = 'None'\n",
    "            \n",
    "\n",
    "            # crawling inside of property details page to featch more features\n",
    "            # Configure Chrome options\n",
    "            chrome_options2 = Options()\n",
    "            chrome_options2.add_argument(\"--headless\")  # Run Chrome in headless mode (without opening a window)\n",
    "\n",
    "            # Initialize the Chrome WebDriver\n",
    "            service2 = Service(ChromeDriverManager().install())\n",
    "            driver_inner_page = webdriver.Chrome(service=service2, options=chrome_options2)\n",
    "            property_page_url = driver.find_elements(By.XPATH, \"//a[@class='tupleNew__propertyHeading ellipsis']\")[property]\n",
    "            driver_inner_page.get(property_page_url.get_attribute('href'))\n",
    "\n",
    "            try:\n",
    "                types_of_rooms_available = driver_inner_page.find_elements(By.XPATH, \"//span[@id='bedWash']\")[0]\n",
    "                types_of_rooms_available = types_of_rooms_available.text\n",
    "                types_of_rooms_available = str(types_of_rooms_available).strip()\n",
    "                if not types_of_rooms_available:\n",
    "                    types_of_rooms_available = 'None'\n",
    "                # print(types_of_rooms_available)\n",
    "                types_of_rooms_available_lst.append(types_of_rooms_available)\n",
    "            except Exception as e:\n",
    "                print(\"Couldn't grab types_of_rooms_available!\")\n",
    "                types_of_rooms_available = 'None'\n",
    "                types_of_rooms_available_lst.append(types_of_rooms_available)\n",
    "            driver_inner_page.quit()\n",
    "\n",
    "        driver.quit()\n",
    "        dataframe = pd.DataFrame({'society_name':society_name_lst,\n",
    "                     'property_title':property_title_lst,\n",
    "                     'property_rent':property_rent_lst,\n",
    "                     'types_of_rooms_available':types_of_rooms_available_lst})\n",
    "        return dataframe\n",
    "Crawl_over_all_pages('indore', 1, 49)\n"
   ]
  },
  {
   "cell_type": "code",
   "execution_count": null,
   "metadata": {},
   "outputs": [],
   "source": [
    "# for every page\n",
    "    # for every entry\n",
    "        # fetching thumbnail details\n",
    "        # fetching inner details"
   ]
  },
  {
   "cell_type": "code",
   "execution_count": 70,
   "metadata": {},
   "outputs": [
    {
     "name": "stdout",
     "output_type": "stream",
     "text": [
      "Fetched Page Successully!\n"
     ]
    }
   ],
   "source": [
    "from selenium import webdriver\n",
    "from selenium.webdriver.chrome.service import Service\n",
    "from selenium.webdriver.common.by import By\n",
    "from selenium.webdriver.chrome.options import Options\n",
    "from webdriver_manager.chrome import ChromeDriverManager\n",
    "\n",
    "from selenium.webdriver.support.ui import WebDriverWait\n",
    "from selenium.webdriver.support import expected_conditions as EC\n",
    "\n",
    "def Crawl_over_all_pages(city, start_page_num, end_page_num):\n",
    "    # Configure Chrome options\n",
    "    chrome_options = Options()\n",
    "    chrome_options.add_argument(\"--headfull\")  # Run Chrome in headless mode (without opening a window)\n",
    "\n",
    "    # Initialize the Chrome WebDriver\n",
    "    service = Service(ChromeDriverManager().install())\n",
    "    driver = webdriver.Chrome(service=service, options=chrome_options)\n",
    "\n",
    "    # URL of the page to scrape\n",
    "    url = f\"https://www.99acres.com/property-for-rent-in-{city}-ffid-page-{start_page_num}\"\n",
    "\n",
    "    # Open the webpage\n",
    "    driver.get(url)\n",
    "\n",
    "    # close popup window\n",
    "    try:\n",
    "        # Set an explicit wait time of 10 seconds\n",
    "        wait = WebDriverWait(driver, 10)\n",
    "        \n",
    "        # Wait for an element to be clickable\n",
    "        warning_popup_btn = wait.until(EC.element_to_be_clickable((By.XPATH, \"//div[@data-label='FRAUD_ALERT_UNDERSTOOD' or @class='pageComponent FraudDesktop__cta']\")))\n",
    "        print(\"Fetched Page Successully!\")\n",
    "        warning_popup_btn.click()\n",
    "    except Exception as e:\n",
    "        print(\"An error occurred:\", e)\n",
    "\n",
    "\n",
    "    return driver\n",
    "\n",
    "driver = Crawl_over_all_pages('indore', 1, 49)\n"
   ]
  },
  {
   "cell_type": "code",
   "execution_count": 73,
   "metadata": {},
   "outputs": [],
   "source": [
    "# Configure Chrome options\n",
    "chrome_options = Options()\n",
    "chrome_options.add_argument(\"--headfull\")  # Run Chrome in headless mode (without opening a window)\n",
    "\n",
    "# Initialize the Chrome WebDriver\n",
    "service = Service(ChromeDriverManager().install())\n",
    "\n",
    "driver_inner_page = webdriver.Chrome(service=service, options=chrome_options)\n",
    "property_page_url = driver.find_elements(By.XPATH, \"//a[@class='tupleNew__propertyHeading ellipsis']\")[0]\n",
    "driver_inner_page.get(property_page_url.get_attribute('href'))\n",
    "# driver_inner_page.quit()"
   ]
  },
  {
   "cell_type": "code",
   "execution_count": 29,
   "metadata": {},
   "outputs": [
    {
     "name": "stdout",
     "output_type": "stream",
     "text": [
      "3BHK 3Baths\n",
      "---------------------------------------------------------------------------------------------------- \n",
      "\n"
     ]
    }
   ],
   "source": [
    "try:\n",
    "    types_of_rooms_available = driver_inner_page.find_elements(By.XPATH, \"//span[@id='bedWash']\")[0]\n",
    "    types_of_rooms_available = types_of_rooms_available.text\n",
    "    types_of_rooms_available = str(types_of_rooms_available).strip()\n",
    "    if not types_of_rooms_available:\n",
    "        types_of_rooms_available = 'None'\n",
    "    print(types_of_rooms_available)\n",
    "except Exception as e:\n",
    "    print(\"Couldn't grab types_of_rooms_available!\")\n",
    "print('-'*100,'\\n')"
   ]
  },
  {
   "cell_type": "code",
   "execution_count": 32,
   "metadata": {},
   "outputs": [
    {
     "name": "stdout",
     "output_type": "stream",
     "text": [
      "3 Bedrooms\n",
      "---------------------------------------------------------------------------------------------------- \n",
      "\n",
      "3 Bathrooms\n",
      "---------------------------------------------------------------------------------------------------- \n",
      "\n",
      "2 Balconies\n",
      "---------------------------------------------------------------------------------------------------- \n",
      "\n"
     ]
    }
   ],
   "source": [
    "try:\n",
    "    value = driver_inner_page.find_element(By.XPATH, \"//span[@id='bedRoomNum']\")\n",
    "    value = str(value.text).strip()\n",
    "    if not value:\n",
    "        value = 'None'\n",
    "    print(value)\n",
    "except Exception as e:\n",
    "    print(\"Couldn't grab bedRoomNum!\")\n",
    "print('-'*100,'\\n')\n",
    "\n",
    "try:\n",
    "    value = driver_inner_page.find_element(By.XPATH, \"//span[@id='bathroomNum']\")\n",
    "    value = str(value.text).strip()\n",
    "    if not value:\n",
    "        value = 'None'\n",
    "    print(value)\n",
    "except Exception as e:\n",
    "    print(\"Couldn't grab bathroomNum!\")\n",
    "print('-'*100,'\\n')\n",
    "\n",
    "try:\n",
    "    value = driver_inner_page.find_element(By.XPATH, \"//span[@id='balconyNum']\")\n",
    "    value = str(value.text).strip()\n",
    "    if not value:\n",
    "        value = 'None'\n",
    "    print(value)\n",
    "except Exception as e:\n",
    "    print(\"Couldn't grab balconyNum!\")\n",
    "print('-'*100,'\\n')\n"
   ]
  },
  {
   "cell_type": "code",
   "execution_count": 34,
   "metadata": {},
   "outputs": [
    {
     "name": "stdout",
     "output_type": "stream",
     "text": [
      "1600\n",
      "---------------------------------------------------------------------------------------------------- \n",
      "\n",
      "1500\n",
      "---------------------------------------------------------------------------------------------------- \n",
      "\n"
     ]
    }
   ],
   "source": [
    "try:\n",
    "    value = driver_inner_page.find_element(By.XPATH, \"//span[@id='superbuiltupArea_span']\")\n",
    "    value = str(value.text).strip()\n",
    "    if not value:\n",
    "        value = 'None'\n",
    "    print(value)\n",
    "except Exception as e:\n",
    "    print(\"Couldn't grab superbuiltupArea_span!\")\n",
    "print('-'*100,'\\n')\n",
    "\n",
    "try:\n",
    "    value = driver_inner_page.find_element(By.XPATH, \"//span[@id='carpetArea_span']\")\n",
    "    value = str(value.text).strip()\n",
    "    if not value:\n",
    "        value = 'None'\n",
    "    print(value)\n",
    "except Exception as e:\n",
    "    print(\"Couldn't grab carpetArea_span!\")\n",
    "print('-'*100,'\\n')"
   ]
  },
  {
   "cell_type": "code",
   "execution_count": 35,
   "metadata": {},
   "outputs": [
    {
     "name": "stdout",
     "output_type": "stream",
     "text": [
      "Milan Heights\n",
      "Bicholi Mardana, Indore\n",
      "---------------------------------------------------------------------------------------------------- \n",
      "\n"
     ]
    }
   ],
   "source": [
    "try:\n",
    "    value = driver_inner_page.find_element(By.XPATH, \"//tbody/tr[2]/td[2]/div[2]\")\n",
    "    value = str(value.text).strip()\n",
    "    if not value:\n",
    "        value = 'None'\n",
    "    print(value)\n",
    "except Exception as e:\n",
    "    print(\"Couldn't grab address!\")\n",
    "print('-'*100,'\\n')"
   ]
  },
  {
   "cell_type": "code",
   "execution_count": 36,
   "metadata": {},
   "outputs": [
    {
     "name": "stdout",
     "output_type": "stream",
     "text": [
      "Family Only\n",
      "---------------------------------------------------------------------------------------------------- \n",
      "\n"
     ]
    }
   ],
   "source": [
    "try:\n",
    "    value = driver_inner_page.find_element(By.XPATH, \"//span[@id='availableForLabel']\")\n",
    "    value = str(value.text).strip()\n",
    "    if not value:\n",
    "        value = 'None'\n",
    "    print(value)\n",
    "except Exception as e:\n",
    "    print(\"Couldn't grab available_for!\")\n",
    "print('-'*100,'\\n')"
   ]
  },
  {
   "cell_type": "code",
   "execution_count": 37,
   "metadata": {},
   "outputs": [
    {
     "name": "stdout",
     "output_type": "stream",
     "text": [
      "Semifurnished\n",
      "---------------------------------------------------------------------------------------------------- \n",
      "\n"
     ]
    }
   ],
   "source": [
    "try:\n",
    "    value = driver_inner_page.find_element(By.XPATH, \"//span[@id='furnishingLabel']\")\n",
    "    value = str(value.text).strip()\n",
    "    if not value:\n",
    "        value = 'None'\n",
    "    print(value)\n",
    "except Exception as e:\n",
    "    print(\"Couldn't grab furnishing_type!\")\n",
    "print('-'*100,'\\n')"
   ]
  },
  {
   "cell_type": "code",
   "execution_count": 41,
   "metadata": {},
   "outputs": [
    {
     "name": "stdout",
     "output_type": "stream",
     "text": [
      "01 August 2024\n",
      "---------------------------------------------------------------------------------------------------- \n",
      "\n"
     ]
    }
   ],
   "source": [
    "try:\n",
    "    value = driver_inner_page.find_element(By.XPATH, \"/html[1]/body[1]/div[1]/div[1]/div[2]/div[1]/div[1]/div[1]/div[2]/table[1]/tbody[1]/tr[4]/td[1]/div[2]\")\n",
    "    value = str(value.text).strip()\n",
    "    if not value:\n",
    "        value = 'None'\n",
    "    print(value)\n",
    "except Exception as e:\n",
    "    print(\"Couldn't grab available_from!\")\n",
    "print('-'*100,'\\n')"
   ]
  },
  {
   "cell_type": "code",
   "execution_count": 39,
   "metadata": {},
   "outputs": [
    {
     "name": "stdout",
     "output_type": "stream",
     "text": [
      "Owner on Jun 18, 2024\n",
      "---------------------------------------------------------------------------------------------------- \n",
      "\n"
     ]
    }
   ],
   "source": [
    "try:\n",
    "    value = driver_inner_page.find_element(By.XPATH, \"//span[@id='postedOnAndByLabel']\")\n",
    "    value = str(value.text).strip()\n",
    "    if not value:\n",
    "        value = 'None'\n",
    "    print(value)\n",
    "except Exception as e:\n",
    "    print(\"Couldn't grab Posted_By_and_On!\")\n",
    "print('-'*100,'\\n')"
   ]
  },
  {
   "cell_type": "code",
   "execution_count": 42,
   "metadata": {},
   "outputs": [
    {
     "name": "stdout",
     "output_type": "stream",
     "text": [
      "Vitrified\n",
      "---------------------------------------------------------------------------------------------------- \n",
      "\n"
     ]
    }
   ],
   "source": [
    "try:\n",
    "    value = driver_inner_page.find_element(By.XPATH, \"//span[@id='Flooring_Label']\")\n",
    "    value = str(value.text).strip()\n",
    "    if not value:\n",
    "        value = 'None'\n",
    "    print(value)\n",
    "except Exception as e:\n",
    "    print(\"Couldn't grab Flooring!\")\n",
    "print('-'*100,'\\n')"
   ]
  },
  {
   "cell_type": "code",
   "execution_count": 43,
   "metadata": {},
   "outputs": [
    {
     "name": "stdout",
     "output_type": "stream",
     "text": [
      "8th   of 8 Floors\n",
      "---------------------------------------------------------------------------------------------------- \n",
      "\n"
     ]
    }
   ],
   "source": [
    "try:\n",
    "    value = driver_inner_page.find_element(By.XPATH, \"//span[@id='Floor_Num_Label']\")\n",
    "    value = str(value.text).strip()\n",
    "    if not value:\n",
    "        value = 'None'\n",
    "    print(value)\n",
    "except Exception as e:\n",
    "    print(\"Couldn't grab Floor_Number!\")\n",
    "print('-'*100,'\\n')"
   ]
  },
  {
   "cell_type": "code",
   "execution_count": null,
   "metadata": {},
   "outputs": [],
   "source": [
    "try:\n",
    "    value = driver_inner_page.find_element(By.XPATH, \"//span[@id='Floor_Num_Label']\")\n",
    "    value = str(value.text).strip()\n",
    "    if not value:\n",
    "        value = 'None'\n",
    "    print(value)\n",
    "except Exception as e:\n",
    "    print(\"Couldn't grab Floor_Number!\")\n",
    "print('-'*100,'\\n')"
   ]
  },
  {
   "cell_type": "code",
   "execution_count": 44,
   "metadata": {},
   "outputs": [
    {
     "name": "stdout",
     "output_type": "stream",
     "text": [
      "Partial\n",
      "---------------------------------------------------------------------------------------------------- \n",
      "\n"
     ]
    }
   ],
   "source": [
    "try:\n",
    "    value = driver_inner_page.find_element(By.XPATH, \"//span[@id='Powerbackup_Label']\")\n",
    "    value = str(value.text).strip()\n",
    "    if not value:\n",
    "        value = 'None'\n",
    "    print(value)\n",
    "except Exception as e:\n",
    "    print(\"Couldn't grab Power_Backup!\")\n",
    "print('-'*100,'\\n')"
   ]
  },
  {
   "cell_type": "code",
   "execution_count": 46,
   "metadata": {},
   "outputs": [
    {
     "name": "stdout",
     "output_type": "stream",
     "text": [
      "1 to 5 Year Old\n",
      "---------------------------------------------------------------------------------------------------- \n",
      "\n"
     ]
    }
   ],
   "source": [
    "try:\n",
    "    value = driver_inner_page.find_element(By.XPATH, \"//span[@id='Age_Label']\")\n",
    "    value = str(value.text).strip()\n",
    "    if not value:\n",
    "        value = 'None'\n",
    "    print(value)\n",
    "except Exception as e:\n",
    "    print(\"Couldn't grab Property_Age!\")\n",
    "print('-'*100,'\\n')"
   ]
  },
  {
   "cell_type": "code",
   "execution_count": 47,
   "metadata": {},
   "outputs": [
    {
     "name": "stdout",
     "output_type": "stream",
     "text": [
      "1 Months\n",
      "---------------------------------------------------------------------------------------------------- \n",
      "\n"
     ]
    }
   ],
   "source": [
    "try:\n",
    "    value = driver_inner_page.find_element(By.XPATH, \"//span[@id='noticeDuration']\")\n",
    "    value = str(value.text).strip()\n",
    "    if not value:\n",
    "        value = 'None'\n",
    "    print(value)\n",
    "except Exception as e:\n",
    "    print(\"Couldn't grab Months_of_Notice!\")\n",
    "print('-'*100,'\\n')"
   ]
  },
  {
   "cell_type": "code",
   "execution_count": 48,
   "metadata": {},
   "outputs": [
    {
     "name": "stdout",
     "output_type": "stream",
     "text": [
      "Yes\n",
      "---------------------------------------------------------------------------------------------------- \n",
      "\n"
     ]
    }
   ],
   "source": [
    "try:\n",
    "    value = driver_inner_page.find_element(By.XPATH, \"//span[@id='Gated_community']\")\n",
    "    value = str(value.text).strip()\n",
    "    if not value:\n",
    "        value = 'None'\n",
    "    print(value)\n",
    "except Exception as e:\n",
    "    print(\"Couldn't grab Gated_Community!\")\n",
    "print('-'*100,'\\n')"
   ]
  },
  {
   "cell_type": "code",
   "execution_count": 49,
   "metadata": {},
   "outputs": [
    {
     "name": "stdout",
     "output_type": "stream",
     "text": [
      "Charges not included\n",
      "---------------------------------------------------------------------------------------------------- \n",
      "\n"
     ]
    }
   ],
   "source": [
    "try:\n",
    "    value = driver_inner_page.find_element(By.XPATH, \"//span[@id='electricityWaterCharges']\")\n",
    "    value = str(value.text).strip()\n",
    "    if not value:\n",
    "        value = 'None'\n",
    "    print(value)\n",
    "except Exception as e:\n",
    "    print(\"Couldn't grab Electricity_&_Water_Charges!\")\n",
    "print('-'*100,'\\n')"
   ]
  },
  {
   "cell_type": "code",
   "execution_count": null,
   "metadata": {},
   "outputs": [],
   "source": []
  },
  {
   "cell_type": "code",
   "execution_count": null,
   "metadata": {},
   "outputs": [],
   "source": []
  },
  {
   "cell_type": "code",
   "execution_count": 7,
   "metadata": {},
   "outputs": [],
   "source": [
    "\n",
    "driver.quit()"
   ]
  },
  {
   "cell_type": "code",
   "execution_count": 8,
   "metadata": {},
   "outputs": [],
   "source": [
    "# types_of_rooms_available\n",
    "# rent_per_month\n",
    "# property_title\n",
    "# property_location\n",
    "# overview\n",
    "    # Configuration\n",
    "    # Area\n",
    "    # address\n",
    "    # rent amt\n",
    "    # deposit amt\n",
    "    # Furnishing\n",
    "    # Available From\n",
    "    # Available For\n",
    "    # Posted By and On\n",
    "    # key highlights\n",
    "    # Floor Number\n",
    "    # facing\n",
    "    # floor\n",
    "    # flooring\n",
    "    # parking\n",
    "    # rent agreement duration\n",
    "    # months of NotADirectoryErrorealectricity & water charges\n",
    "    # power backup\n",
    "    # peroperty age\n",
    "    # property code\n",
    "    # About Property\n",
    "# Furnishing Attributes\n",
    "# Features\n",
    "# owners's address \n",
    "# owner name\n",
    "# locality review\n",
    "    # rating value\n",
    "    # no of total reviews\n",
    "# Ratings by Features\n",
    "    # Lifestyle rating value\n",
    "    # Safety rating value\n",
    "    # Environment rating value\n",
    "    # Connectivity rating value\n",
    "# liked attributes\n",
    "# disliked attributes\n",
    "# positive mention percentage\n"
   ]
  },
  {
   "cell_type": "code",
   "execution_count": null,
   "metadata": {},
   "outputs": [],
   "source": []
  },
  {
   "cell_type": "code",
   "execution_count": null,
   "metadata": {},
   "outputs": [],
   "source": []
  },
  {
   "cell_type": "code",
   "execution_count": null,
   "metadata": {},
   "outputs": [],
   "source": []
  },
  {
   "cell_type": "code",
   "execution_count": null,
   "metadata": {},
   "outputs": [],
   "source": []
  },
  {
   "cell_type": "code",
   "execution_count": null,
   "metadata": {},
   "outputs": [],
   "source": []
  },
  {
   "cell_type": "code",
   "execution_count": null,
   "metadata": {},
   "outputs": [],
   "source": []
  },
  {
   "cell_type": "code",
   "execution_count": null,
   "metadata": {},
   "outputs": [],
   "source": []
  }
 ],
 "metadata": {
  "kernelspec": {
   "display_name": "venv",
   "language": "python",
   "name": "python3"
  },
  "language_info": {
   "codemirror_mode": {
    "name": "ipython",
    "version": 3
   },
   "file_extension": ".py",
   "mimetype": "text/x-python",
   "name": "python",
   "nbconvert_exporter": "python",
   "pygments_lexer": "ipython3",
   "version": "3.10.0"
  }
 },
 "nbformat": 4,
 "nbformat_minor": 2
}
