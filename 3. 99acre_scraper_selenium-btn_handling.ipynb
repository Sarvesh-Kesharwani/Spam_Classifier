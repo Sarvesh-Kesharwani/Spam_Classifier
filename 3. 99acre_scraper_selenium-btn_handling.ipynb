{
 "cells": [
  {
   "cell_type": "markdown",
   "metadata": {},
   "source": [
    "https://www.youtube.com/watch?v=xSMdwDfo2dI&list=PLEsT37dHeGbT7N08taRMNBe4k8punTB-g&index=1"
   ]
  },
  {
   "cell_type": "code",
   "execution_count": null,
   "metadata": {},
   "outputs": [],
   "source": [
    "# pip freeze > requirements.txt"
   ]
  },
  {
   "cell_type": "code",
   "execution_count": 20,
   "metadata": {},
   "outputs": [
    {
     "name": "stdout",
     "output_type": "stream",
     "text": [
      "<selenium.webdriver.remote.webelement.WebElement (session=\"cc177fed61b54bfd617e0da1526023f2\", element=\"f.1919931FC5244E2A10AE801433806074.d.24C7600B6DEB9A1805C8B4EA8C18B17D.e.45\")>\n",
      "Couldn't grab property_title!\n"
     ]
    }
   ],
   "source": [
    "from selenium import webdriver\n",
    "from selenium.webdriver.chrome.service import Service\n",
    "from selenium.webdriver.common.by import By\n",
    "from selenium.webdriver.chrome.options import Options\n",
    "from webdriver_manager.chrome import ChromeDriverManager\n",
    "\n",
    "from selenium.webdriver.support.ui import WebDriverWait\n",
    "from selenium.webdriver.support import expected_conditions as EC\n",
    "\n",
    "# Configure Chrome options\n",
    "chrome_options = Options()\n",
    "chrome_options.add_argument(\"--headfull\")  # Run Chrome in headless mode (without opening a window)\n",
    "\n",
    "# Initialize the Chrome WebDriver\n",
    "service = Service(ChromeDriverManager().install())\n",
    "driver = webdriver.Chrome(service=service, options=chrome_options)\n",
    "\n",
    "# URL of the page to scrape\n",
    "url = \"https://www.99acres.com/property-for-rent-in-indore-ffid\"\n",
    "\n",
    "# Open the webpage\n",
    "driver.get(url)\n",
    "\n",
    "try:\n",
    "    # Set an explicit wait time of 10 seconds\n",
    "    wait = WebDriverWait(driver, 10)\n",
    "    \n",
    "    # Wait for an element to be clickable\n",
    "    warning_popup_btn = wait.until(EC.element_to_be_clickable((By.XPATH, \"//div[@data-label='FRAUD_ALERT_UNDERSTOOD' or @class='pageComponent FraudDesktop__cta']\")))\n",
    "    print(warning_popup_btn)\n",
    "    warning_popup_btn.click()\n",
    "except Exception as e:\n",
    "    print(\"An error occurred:\", e)\n",
    "# finally:\n",
    "#     driver.quit()\n",
    "\n",
    "try:\n",
    "    property_title = driver.find_elements(By.XPATH, \"//div[@class='tupleNew__locationName ellipsis']\")\n",
    "    for text in property_title:\n",
    "        print(text.text)\n",
    "except Exception as e:\n",
    "    print(\"Couldn't grab property_title!\")"
   ]
  },
  {
   "cell_type": "code",
   "execution_count": 19,
   "metadata": {},
   "outputs": [
    {
     "name": "stdout",
     "output_type": "stream",
     "text": [
      "Couldn't grab property_title!\n"
     ]
    }
   ],
   "source": [
    "try:\n",
    "    property_title = driver.find_elements(By.XPATH, \"//div[@class='tupleNew__locationName ellipsis']\")\n",
    "    for text in property_title.text:\n",
    "        print(text)\n",
    "except Exception as e:\n",
    "    print(\"Couldn't grab property_title!\")"
   ]
  },
  {
   "cell_type": "code",
   "execution_count": null,
   "metadata": {},
   "outputs": [],
   "source": []
  }
 ],
 "metadata": {
  "kernelspec": {
   "display_name": "venv",
   "language": "python",
   "name": "python3"
  },
  "language_info": {
   "codemirror_mode": {
    "name": "ipython",
    "version": 3
   },
   "file_extension": ".py",
   "mimetype": "text/x-python",
   "name": "python",
   "nbconvert_exporter": "python",
   "pygments_lexer": "ipython3",
   "version": "3.10.0"
  }
 },
 "nbformat": 4,
 "nbformat_minor": 2
}
