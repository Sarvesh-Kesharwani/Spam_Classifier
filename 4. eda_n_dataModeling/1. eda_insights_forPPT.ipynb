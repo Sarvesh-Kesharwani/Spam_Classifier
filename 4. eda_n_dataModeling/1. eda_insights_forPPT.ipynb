{
 "cells": [
  {
   "cell_type": "code",
   "execution_count": null,
   "metadata": {},
   "outputs": [],
   "source": [
    "# the steps that i'll perform in this notebook:\n",
    "    # 1. encoding of cols\n",
    "    # 2. vectorization\n",
    "    # 3. model training, eval, test\n",
    "\n",
    "    # 4. deployment i'll do in a separate branch\n"
   ]
  },
  {
   "cell_type": "code",
   "execution_count": null,
   "metadata": {},
   "outputs": [],
   "source": [
    "# patterns observed from data will be noted down here\n",
    "# this will help in creating the ppt for this project, which mainly contains eda."
   ]
  },
  {
   "cell_type": "code",
   "execution_count": null,
   "metadata": {},
   "outputs": [],
   "source": [
    "# experimentation with: scaling methods, encoding methods."
   ]
  },
  {
   "cell_type": "code",
   "execution_count": null,
   "metadata": {},
   "outputs": [],
   "source": [
    "# this notebooks basically contains patterns observed while performing all the 3 edas performed while data analysis pipeline (ie. while data cleaning, feature engineering, and model building)\n",
    "# which means, all the patterns used while cleaning data, engineering features and modeling."
   ]
  }
 ],
 "metadata": {
  "language_info": {
   "name": "python"
  },
  "orig_nbformat": 4
 },
 "nbformat": 4,
 "nbformat_minor": 2
}
