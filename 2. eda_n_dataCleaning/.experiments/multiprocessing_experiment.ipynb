{
 "cells": [
  {
   "cell_type": "code",
   "execution_count": 2,
   "metadata": {},
   "outputs": [],
   "source": [
    "import time\n",
    "from multiprocessing import Pool\n",
    "import os\n",
    "\n",
    "def fibonacci(n):\n",
    "    print(n, os.getpid())\n",
    "    if n <= 0:\n",
    "        return 0\n",
    "    elif n == 1:\n",
    "        return 1\n",
    "    else:\n",
    "        return fibonacci(n-1) + fibonacci(n-2)\n",
    "lst = [10, 15, 20, 25, 30, 35]\n",
    "result = []"
   ]
  },
  {
   "cell_type": "code",
   "execution_count": 15,
   "metadata": {},
   "outputs": [
    {
     "name": "stdout",
     "output_type": "stream",
     "text": [
      "[55, 610, 6765, 75025, 832040, 9227465] 4.219688653945923\n"
     ]
    }
   ],
   "source": [
    "# using simple loop\n",
    "results=[]\n",
    "start_time = time.time()\n",
    "for i in lst:\n",
    "    results.append(fibonacci(i))\n",
    "end_time = time.time()\n",
    "time_taken = end_time - start_time\n",
    "print(results, time_taken)\n",
    "#  4.219688653945923 seconds"
   ]
  },
  {
   "cell_type": "code",
   "execution_count": 3,
   "metadata": {},
   "outputs": [],
   "source": [
    "# using multiprocessing\n",
    "start_time = time.time()\n",
    "\n",
    "pool = Pool()\n",
    "result = pool.map(fibonacci, lst)\n",
    "end_time = time.time()\n",
    "time_taken = end_time - start_time\n",
    "print(time_taken)\n",
    "\n",
    "\n",
    "# note this multiprocessing won't work here in ipynb -> it works only on .py files... so lets go ahead->"
   ]
  },
  {
   "cell_type": "code",
   "execution_count": null,
   "metadata": {},
   "outputs": [],
   "source": []
  },
  {
   "cell_type": "code",
   "execution_count": null,
   "metadata": {},
   "outputs": [],
   "source": []
  },
  {
   "cell_type": "code",
   "execution_count": null,
   "metadata": {},
   "outputs": [],
   "source": []
  }
 ],
 "metadata": {
  "kernelspec": {
   "display_name": ".venv",
   "language": "python",
   "name": "python3"
  },
  "language_info": {
   "codemirror_mode": {
    "name": "ipython",
    "version": 3
   },
   "file_extension": ".py",
   "mimetype": "text/x-python",
   "name": "python",
   "nbconvert_exporter": "python",
   "pygments_lexer": "ipython3",
   "version": "3.9.5"
  },
  "orig_nbformat": 4
 },
 "nbformat": 4,
 "nbformat_minor": 2
}
