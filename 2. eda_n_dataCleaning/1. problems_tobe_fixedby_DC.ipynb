{
 "cells": [
  {
   "cell_type": "code",
   "execution_count": null,
   "metadata": {},
   "outputs": [],
   "source": [
    "# 1. here in this notebook i write only the problems i identify while eda in the 2nd notebook of this dir.\n",
    "# 2. i can't write this info in that same nb becoz it make do a lot of scrolling, and here it is optimal.\n",
    "\n",
    "# 4 types of problems:\n",
    "    # ...\n"
   ]
  },
  {
   "cell_type": "code",
   "execution_count": null,
   "metadata": {},
   "outputs": [],
   "source": [
    "# types of problems to be noted down here are:\n",
    "    # 1. missing valued cols\n",
    "    # 2. wrong col dtype issue \n",
    "    # 3. col name issue\n",
    "    # 4. \n",
    "    # \n",
    "    # "
   ]
  },
  {
   "cell_type": "code",
   "execution_count": null,
   "metadata": {},
   "outputs": [],
   "source": [
    "# problems in data:\n",
    "    # 1. unnamed cols needs to be dropped.\n",
    "    # 2. v1 and v2 cols needs to be renamed to `txt_msg` and `target`.\n",
    "    # 3. converting cols to correct dtype.\n",
    "    # 4. "
   ]
  }
 ],
 "metadata": {
  "kernelspec": {
   "display_name": ".venv",
   "language": "python",
   "name": "python3"
  },
  "language_info": {
   "codemirror_mode": {
    "name": "ipython",
    "version": 3
   },
   "file_extension": ".py",
   "mimetype": "text/x-python",
   "name": "python",
   "nbconvert_exporter": "python",
   "pygments_lexer": "ipython3",
   "version": "3.9.5"
  },
  "orig_nbformat": 4
 },
 "nbformat": 4,
 "nbformat_minor": 2
}
