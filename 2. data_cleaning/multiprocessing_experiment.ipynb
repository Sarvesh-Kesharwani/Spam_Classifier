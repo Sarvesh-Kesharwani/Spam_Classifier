{
 "cells": [
  {
   "cell_type": "code",
   "execution_count": 5,
   "metadata": {},
   "outputs": [],
   "source": [
    "import time\n",
    "from multiprocessing import Pool\n",
    "def fibonacci(n):\n",
    "    if n <= 0:\n",
    "        return 0\n",
    "    elif n == 1:\n",
    "        return 1\n",
    "    else:\n",
    "        return fibonacci(n-1) + fibonacci(n-2)\n",
    "lst = [10,20,30,40,50]\n",
    "result = []\n",
    "start_time = time.time()\n",
    "\n",
    "# with Pool(processes=8) as pool:\n",
    "#     result = pool.map(fibonacci, lst)\n",
    "end_time = time.time()\n",
    "time_taken = end_time - start_time"
   ]
  },
  {
   "cell_type": "code",
   "execution_count": 7,
   "metadata": {},
   "outputs": [
    {
     "ename": "NameError",
     "evalue": "name 'fibonacci' is not defined",
     "output_type": "error",
     "traceback": [
      "\u001b[1;31m---------------------------------------------------------------------------\u001b[0m",
      "\u001b[1;31mNameError\u001b[0m                                 Traceback (most recent call last)",
      "\u001b[1;32mc:\\Users\\sarvesh.kesharwani\\Pictures\\DSC\\Spam_Classifier\\2. data_cleaning\\multiprocessing_experiment.ipynb Cell 2\u001b[0m line \u001b[0;36m4\n\u001b[0;32m      <a href='vscode-notebook-cell:/c%3A/Users/sarvesh.kesharwani/Pictures/DSC/Spam_Classifier/2.%20data_cleaning/multiprocessing_experiment.ipynb#W5sZmlsZQ%3D%3D?line=1'>2</a>\u001b[0m start_time \u001b[39m=\u001b[39m time\u001b[39m.\u001b[39mtime()\n\u001b[0;32m      <a href='vscode-notebook-cell:/c%3A/Users/sarvesh.kesharwani/Pictures/DSC/Spam_Classifier/2.%20data_cleaning/multiprocessing_experiment.ipynb#W5sZmlsZQ%3D%3D?line=2'>3</a>\u001b[0m \u001b[39mfor\u001b[39;00m i \u001b[39min\u001b[39;00m lst:\n\u001b[1;32m----> <a href='vscode-notebook-cell:/c%3A/Users/sarvesh.kesharwani/Pictures/DSC/Spam_Classifier/2.%20data_cleaning/multiprocessing_experiment.ipynb#W5sZmlsZQ%3D%3D?line=3'>4</a>\u001b[0m     results\u001b[39m.\u001b[39mappend(fibonacci(i))\n\u001b[0;32m      <a href='vscode-notebook-cell:/c%3A/Users/sarvesh.kesharwani/Pictures/DSC/Spam_Classifier/2.%20data_cleaning/multiprocessing_experiment.ipynb#W5sZmlsZQ%3D%3D?line=4'>5</a>\u001b[0m end_time \u001b[39m=\u001b[39m time\u001b[39m.\u001b[39mtime()\n\u001b[0;32m      <a href='vscode-notebook-cell:/c%3A/Users/sarvesh.kesharwani/Pictures/DSC/Spam_Classifier/2.%20data_cleaning/multiprocessing_experiment.ipynb#W5sZmlsZQ%3D%3D?line=5'>6</a>\u001b[0m time_taken \u001b[39m=\u001b[39m end_time \u001b[39m-\u001b[39m start_time\n",
      "\u001b[1;31mNameError\u001b[0m: name 'fibonacci' is not defined"
     ]
    }
   ],
   "source": [
    "results=[]\n",
    "start_time = time.time()\n",
    "for i in lst:\n",
    "    results.append(fibonacci(i))\n",
    "end_time = time.time()\n",
    "time_taken = end_time - start_time\n",
    "print(results, time_taken)"
   ]
  },
  {
   "cell_type": "code",
   "execution_count": null,
   "metadata": {},
   "outputs": [],
   "source": []
  },
  {
   "cell_type": "code",
   "execution_count": null,
   "metadata": {},
   "outputs": [],
   "source": []
  },
  {
   "cell_type": "code",
   "execution_count": null,
   "metadata": {},
   "outputs": [],
   "source": []
  },
  {
   "cell_type": "code",
   "execution_count": null,
   "metadata": {},
   "outputs": [],
   "source": []
  }
 ],
 "metadata": {
  "kernelspec": {
   "display_name": ".venv",
   "language": "python",
   "name": "python3"
  },
  "language_info": {
   "codemirror_mode": {
    "name": "ipython",
    "version": 3
   },
   "file_extension": ".py",
   "mimetype": "text/x-python",
   "name": "python",
   "nbconvert_exporter": "python",
   "pygments_lexer": "ipython3",
   "version": "3.9.5"
  },
  "orig_nbformat": 4
 },
 "nbformat": 4,
 "nbformat_minor": 2
}
